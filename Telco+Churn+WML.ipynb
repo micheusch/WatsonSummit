{
    "nbformat_minor": 1, 
    "metadata": {
        "language_info": {
            "nbconvert_exporter": "python", 
            "codemirror_mode": {
                "name": "ipython", 
                "version": 2
            }, 
            "pygments_lexer": "ipython2", 
            "name": "python", 
            "file_extension": ".py", 
            "mimetype": "text/x-python", 
            "version": "2.7.11"
        }, 
        "kernelspec": {
            "language": "python", 
            "name": "python2-spark21", 
            "display_name": "Python 2 with Spark 2.1"
        }
    }, 
    "cells": [
        {
            "source": "### Step 1: Insert a project token and run the inserted code cell\n<br/>A project token will allow you to access all the resources defined within this project.  By default, the token is inserted into the very first cell in a notebook.\n<br/><img style=\"float: left;\" src=\"https://github.com/yfphoon/dsx_local/blob/master/images/project_token.png?raw=true\" alt=\"Project Token\" />", 
            "metadata": {}, 
            "cell_type": "markdown"
        }, 
        {
            "execution_count": 1, 
            "source": "# The code was removed by DSX for sharing.", 
            "metadata": {
                "collapsed": true
            }, 
            "cell_type": "code", 
            "outputs": []
        }, 
        {
            "source": "In this notebook you will learn how to build a predictive model with Spark machine learning API (SparkML) to predict customer churn, and deploy it for scoring in Machine Learning (ML). \n\nThis notebook walks you through these steps:\n- Build a model with SparkML API\n- Save the model in the ML repository\n- Create a Deployment in ML (via UI)\n- Test the model (via UI)\n- Test the model (via REST API)", 
            "metadata": {}, 
            "cell_type": "markdown"
        }, 
        {
            "source": "### Use Case", 
            "metadata": {}, 
            "cell_type": "markdown"
        }, 
        {
            "source": "The analytics use case implemented in this notebook is telco churn. While it's a simple use case, it implements all steps from the CRISP-DM methodolody, which is the recommended best practice for implementing predictive analytics. \n![CRISP-DM](https://raw.githubusercontent.com/yfphoon/dsx_demo/master/crisp_dm.png)\n\nThe analytics process starts with defining the business problem and identifying the data that can be used to solve the problem. For Telco churn, we use demographic and historical transaction data. We also know which customers have churned, which is the critical information for building predictive models. In the next step, we use visual APIs for data understanding and complete some data preparation tasks. In a typical analytics project data preparation will include more steps (for example, formatting data or deriving new variables). \n\nOnce the data is ready, we can build a predictive model. In our example we are using the SparkML Random Forrest classification model. Classification is a statistical technique which assigns a \"class\" to each customer record (for our use case \"churn\" or \"no churn\"). Classification models use historical data to come up with the logic to predict \"class\", this process is called model training. After the model is created, it's usually evaluated using another data set. \n\nFinally, if the model's accuracy meets the expectations, it can be deployed for scoring. Scoring is the process of applying the model to a new set of data. For example, when we receive new transactional data, we can score the customer for the risk of churn.  \n\nWe also developed a sample Python Flask application to illustrate deployment: http://predictcustomerchurn.mybluemix.net/. This application implements the REST client call to the model.", 
            "metadata": {}, 
            "cell_type": "markdown"
        }, 
        {
            "source": "### Working with Notebooks", 
            "metadata": {}, 
            "cell_type": "markdown"
        }, 
        {
            "source": "If you are new to Notebooks, here's a quick overview of how to work in this environment.\n\n1. To run the notebook, it must be in the Edit mode. If you don't see the menu in the notebook, then it's not in the edit mode. Click on the pencil icon.\n2. The notebook has 2 types of cells - markdown (text) and code. \n3. Each cell with code can be executed independently or together (see options under the Cell menu). When working in this notebook, we will be running one cell at a time because we need to make code changes to some of the cells.\n4. To run the cell, position cursor in the code cell and click the Run (arrow) icon. The cell is running when you see the * next to it. Some cells have printable output.\n5. Work through this notebook by reading the instructions and executing code cell by cell. Some cells will require modifications before you run them. ", 
            "metadata": {}, 
            "cell_type": "markdown"
        }, 
        {
            "source": "### Step 2: Load data ", 
            "metadata": {}, 
            "cell_type": "markdown"
        }, 
        {
            "execution_count": 2, 
            "source": "# The code was removed by DSX for sharing.", 
            "metadata": {
                "collapsed": true
            }, 
            "cell_type": "code", 
            "outputs": []
        }, 
        {
            "source": "If the first step ran successfully (you saw the output), then continue reviewing the notebook and running each code cell step by step. Note that not every cell has a visual output. The cell is still running if you see a * in the brackets next to the cell. \n\nIf the first step didn't finish successfully, check with the instructor. ", 
            "metadata": {}, 
            "cell_type": "markdown"
        }, 
        {
            "source": "### Step 3: Merge Files", 
            "metadata": {}, 
            "cell_type": "markdown"
        }, 
        {
            "execution_count": 3, 
            "source": "data=customer.join(customer_churn,customer['ID']==customer_churn['ID']).select(customer['*'],customer_churn['CHURN'])", 
            "metadata": {
                "collapsed": true
            }, 
            "cell_type": "code", 
            "outputs": []
        }, 
        {
            "source": "### Step 4: Rename some columns\nThis step is to remove spaces from columns names, it's an example of data preparation that you may have to do before creating a model. ", 
            "metadata": {}, 
            "cell_type": "markdown"
        }, 
        {
            "execution_count": 4, 
            "source": "data = data.withColumnRenamed(\"Est Income\", \"EstIncome\").withColumnRenamed(\"Car Owner\",\"CarOwner\")\ndata.toPandas().head()", 
            "metadata": {}, 
            "cell_type": "code", 
            "outputs": [
                {
                    "execution_count": 4, 
                    "data": {
                        "text/html": "<div>\n<table border=\"1\" class=\"dataframe\">\n  <thead>\n    <tr style=\"text-align: right;\">\n      <th></th>\n      <th>ID</th>\n      <th>Gender</th>\n      <th>Status</th>\n      <th>Children</th>\n      <th>EstIncome</th>\n      <th>CarOwner</th>\n      <th>Age</th>\n      <th>LongDistance</th>\n      <th>International</th>\n      <th>Local</th>\n      <th>Dropped</th>\n      <th>Paymethod</th>\n      <th>LocalBilltype</th>\n      <th>LongDistanceBilltype</th>\n      <th>Usage</th>\n      <th>RatePlan</th>\n      <th>CHURN</th>\n    </tr>\n  </thead>\n  <tbody>\n    <tr>\n      <th>0</th>\n      <td>1</td>\n      <td>F</td>\n      <td>S</td>\n      <td>1</td>\n      <td>38000.00</td>\n      <td>N</td>\n      <td>24.393333</td>\n      <td>23.56</td>\n      <td>0</td>\n      <td>206.08</td>\n      <td>0</td>\n      <td>CC</td>\n      <td>Budget</td>\n      <td>Intnl_discount</td>\n      <td>229.64</td>\n      <td>3</td>\n      <td>T</td>\n    </tr>\n    <tr>\n      <th>1</th>\n      <td>6</td>\n      <td>M</td>\n      <td>M</td>\n      <td>2</td>\n      <td>29616.00</td>\n      <td>N</td>\n      <td>49.426667</td>\n      <td>29.78</td>\n      <td>0</td>\n      <td>45.50</td>\n      <td>0</td>\n      <td>CH</td>\n      <td>FreeLocal</td>\n      <td>Standard</td>\n      <td>75.29</td>\n      <td>2</td>\n      <td>F</td>\n    </tr>\n    <tr>\n      <th>2</th>\n      <td>8</td>\n      <td>M</td>\n      <td>M</td>\n      <td>0</td>\n      <td>19732.80</td>\n      <td>N</td>\n      <td>50.673333</td>\n      <td>24.81</td>\n      <td>0</td>\n      <td>22.44</td>\n      <td>0</td>\n      <td>CC</td>\n      <td>FreeLocal</td>\n      <td>Standard</td>\n      <td>47.25</td>\n      <td>3</td>\n      <td>F</td>\n    </tr>\n    <tr>\n      <th>3</th>\n      <td>11</td>\n      <td>M</td>\n      <td>S</td>\n      <td>2</td>\n      <td>96.33</td>\n      <td>N</td>\n      <td>56.473333</td>\n      <td>26.13</td>\n      <td>0</td>\n      <td>32.88</td>\n      <td>1</td>\n      <td>CC</td>\n      <td>Budget</td>\n      <td>Standard</td>\n      <td>59.01</td>\n      <td>1</td>\n      <td>F</td>\n    </tr>\n    <tr>\n      <th>4</th>\n      <td>14</td>\n      <td>F</td>\n      <td>M</td>\n      <td>2</td>\n      <td>52004.80</td>\n      <td>N</td>\n      <td>25.140000</td>\n      <td>5.03</td>\n      <td>0</td>\n      <td>23.11</td>\n      <td>0</td>\n      <td>CH</td>\n      <td>Budget</td>\n      <td>Intnl_discount</td>\n      <td>28.14</td>\n      <td>1</td>\n      <td>F</td>\n    </tr>\n  </tbody>\n</table>\n</div>", 
                        "text/plain": "   ID Gender Status  Children  EstIncome CarOwner        Age  LongDistance  \\\n0   1      F      S         1   38000.00        N  24.393333         23.56   \n1   6      M      M         2   29616.00        N  49.426667         29.78   \n2   8      M      M         0   19732.80        N  50.673333         24.81   \n3  11      M      S         2      96.33        N  56.473333         26.13   \n4  14      F      M         2   52004.80        N  25.140000          5.03   \n\n   International   Local  Dropped Paymethod LocalBilltype  \\\n0              0  206.08        0        CC        Budget   \n1              0   45.50        0        CH     FreeLocal   \n2              0   22.44        0        CC     FreeLocal   \n3              0   32.88        1        CC        Budget   \n4              0   23.11        0        CH        Budget   \n\n  LongDistanceBilltype   Usage  RatePlan CHURN  \n0       Intnl_discount  229.64         3     T  \n1             Standard   75.29         2     F  \n2             Standard   47.25         3     F  \n3             Standard   59.01         1     F  \n4       Intnl_discount   28.14         1     F  "
                    }, 
                    "metadata": {}, 
                    "output_type": "execute_result"
                }
            ]
        }, 
        {
            "source": "### Step 5: Data understanding", 
            "metadata": {}, 
            "cell_type": "markdown"
        }, 
        {
            "source": "Data preparation and data understanding are the most time-consuming tasks in the data mining process. The data scientist needs to review and evaluate the quality of data before modeling.\n\nVisualization is one of the ways to reivew data.\n\nThe Brunel Visualization Language is a highly succinct and novel language that defines interactive data visualizations based on tabular data. The language is well suited for both data scientists and business users. \nMore information about Brunel Visualization: https://github.com/Brunel-Visualization/Brunel/wiki\n\nTry Brunel visualization here: http://brunel.mybluemix.net/gallery_app/renderer", 
            "metadata": {
                "collapsed": true
            }, 
            "cell_type": "markdown"
        }, 
        {
            "execution_count": null, 
            "source": "import brunel\ndf = data.toPandas()\n%brunel data('df') \\\n        bar x(CHURN, LocalBilltype) y(EstIncome) mean(EstIncome) color(LocalBilltype)  tooltip(EstIncome) | \\\n        point x(LongDistance) y(Usage) color(Paymethod) tooltip(LongDistance, Usage)\\\n        :: width=1100, height=400 ", 
            "metadata": {}, 
            "cell_type": "code", 
            "outputs": []
        }, 
        {
            "source": "**PixieDust** is a Python Helper library for Spark IPython Notebooks. One of it's main features are visualizations. You'll notice that unlike other APIs which produce just output, PixieDust creates an **interactive UI** in which you can explore data.\n\nMore information about PixieDust: https://github.com/ibm-cds-labs/pixiedust?cm_mc_uid=78151411419314871783930&cm_mc_sid_50200000=1487962969", 
            "metadata": {}, 
            "cell_type": "markdown"
        }, 
        {
            "execution_count": 44, 
            "source": "from pixiedust.display import *\ndisplay(data)", 
            "metadata": {
                "pixiedust": {
                    "displayParams": {
                        "chartsize": "50", 
                        "keyFields": "Paymethod", 
                        "valueFields": "Usage", 
                        "rendererId": "matplotlib", 
                        "aggregation": "SUM", 
                        "handlerId": "barChart", 
                        "rowCount": "500"
                    }
                }
            }, 
            "cell_type": "code", 
            "outputs": [
                {
                    "data": {
                        "text/html": "<style type=\"text/css\">.pd_warning{display:none;}</style><div class=\"pd_warning\"><em>Hey, there's something awesome here! To see it, open this notebook outside GitHub, in a viewer like Jupyter</em></div>\n        <div class=\"pd_save is-viewer-good\" style=\"padding-right:10px;text-align: center;line-height:initial !important;font-size: xx-large;font-weight: 500;color: coral;\">\n            \n        </div>\n    \n        <div id=\"chartFigured189c61b\" class=\"pd_save\" style=\"overflow-x:auto\">\n            \n                    \n                            <center><img style=\"max-width:initial !important\" src=\"data:image/png;base64,iVBORw0KGgoAAAANSUhEUgAAAk4AAAHaCAYAAAD2RsY9AAAABHNCSVQICAgIfAhkiAAAAAlwSFlzAAAOwwAADsMBx2+oZAAAIABJREFUeJzt3Xt4VPWB//HPTEIQEjISidzKHWECRHLhZrmJkkWpFpqAFZCLG1LDdis3L1ipgmIpFVyEVBApaCs3WUhgaakgeN1KAKEaMLjwgIABYpbYCZMEEmbO7w9+zDoi8iWZZEjyfj0Pj+ac7/nOd8LJPO+cOSE2y7IsAQAA4JrswV4AAABATUE4AQAAGCKcAAAADBFOAAAAhggnAAAAQ4QTAACAIcIJAADAEOEEAABgKDTYCwBQt5SVlSknJ6faHi82NlZhYWHV9ngAajfCCUC1ysnJUY8eL0iKroZHK9DevU8rMTGxGh4LQF1AOAEIgmhJLYK9iO9111136d/+7d80YsQIv+1jx45Vjx49NHny5CCtDMCNgHucAAAADBFOAHAdzp07p2nTpqlPnz5KTEzUPffco23btkmSCgoKlJ6err59+yohIUHDhg3T3/72N7/jP/vsM40YMUKJiYkaMWKEXn/9dTmdTr8xWVlZGjZsmHr06KH7779ff/3rX6vt+QH4YbxVBwDXYfny5SopKdG7776rBg0a6PTp0yopKZEkeb1ejRgxQgsXLlS9evWUlZWlxx57TLfddps6dOggt9uttLQ0TZgwQWlpaTp58qTS09Nls9l882/cuFEZGRnKyMhQly5dtG/fPqWlpalZs2ZKSEgI1tMG8P9xxQkArkNYWJj++c9/6siRI7IsS82bN1eHDh0kSU2bNtXgwYN10003KSQkRCkpKerQoYN27dolSdqxY4fq1aunSZMmKTQ0VO3atdO4ceP85n/99dc1adIkdenSRZKUkJCgoUOHKjMzs3qfKIDvxRUnAPiWevXq6eLFi1dsv3jxokJDQzVx4kR5PB7NnDlTZ86c0R133KFp06apdevWKioq0osvvqi///3vcrlcstlsKi0t1dmzZyVJX3/9tZo3b+43b8uWLf0+Pn78uObOnasXX3xRkmRZljwej3r16lVFzxjA9SCcAOBbfvSjH+n48eN+2yzL0smTJ9W6dWvVr19fjz76qB599FEVFRVp9uzZmjFjhlavXq358+fr2LFjWr16tZo2bSpJGjZsmCzLknTpitTp06f95s7Ly/P7ODo6Wr/61a80bNiwKnyWACqKt+oABEGBpFPV8KfguleWkpKiDRs26OOPP5bH45Hb7dZLL70kSRo4cKB27typI0eOyOPxqH79+qpfv75CQy99D+p2u3XTTTcpMjJSZWVl+vOf/6wjR4745h40aJDKy8v16quvqry8XMeOHdOf//xnv8cfN26cXnnlFeXk5MiyLN8/GHrw4MHrfi4AAs9mXf5WCACqQU34l8OzsrL0xhtvKC8vT2FhYYqNjdVjjz2mDh066E9/+pNWrVqlgoIChYWFKS4uTk8//bRatWqlEydO6Ne//rUOHjyoRo0aKSUlRXv37vX7958+++wzzZ49W8eOHVP79u11zz33aPHixfr00099j79lyxatWLFCX331lUJCQnTbbbfp0UcfVY8ePQL6uQFw/QgnAAii119/XevWrdPWrVuDvRQABnirDgCq0ccff6wzZ85IuvTrZ1auXKmf/vSnQV4VAFPcHA4A1ejo0aN64okn5Ha7FRUVpeHDh2vixInBXhYAQ7xVBwAAYIi36gAAAAwRTgAAAIYIJwAAAEOEEwAAgCHCCQAAwBDhBAAAYIhwAgAAMEQ4AQAAGCKcAAAADBFOAAAAhggnAAAAQ4QTAACAIcIJAADAEOEEAABgiHACAAAwRDgBAAAYIpwAAAAMEU4AAACGCCcAAABDhBMAAIAhwgkAAMAQ4QQAAGCIcAIAADBEOAEAABi6ajj99a9/1ZgxY5SYmKiYmBh5vV6//YcOHdJDDz2k+Ph4DRgwQBkZGVfMsWjRIvXv31/x8fEaO3asDh8+HJQ5AAAAAuGq4eRwODRmzBj9+te/vmJfcXGxJk6cqMTERGVnZ2v58uVav3693njjDd+Y5cuXKzMzUytXrlR2drbi4+OVmpqq0tLSap0DAAAgUK4aTn379tXQoUPVqlWrK/Zt27ZNlmVp8uTJCgsLU6dOnZSamqpVq1b5xqxZs0apqanq2LGjwsLCNHnyZJWXl2v79u3VOgcAAECgVOgep0OHDikmJkZ2+/8dHhsbq5MnT6q4uFhut1t5eXmKjY317Q8JCVGXLl2Um5tbbXMAAAAEUmhFDnK73YqMjPTbdvljt9sty7IkSY0aNbpijNvtrrY5wsPDK/L0AAAAvleFrjhFRESoqKjIb9vljyMiIhQRESFJOnfu3BVjLu+rjjlMXY40AACAH1KhK04xMTHasmWLvF6v722ynJwctWrVyneVp2XLlsrJyVH37t0lSR6PR7m5uRo+fHi1zmGisLBYNputIp8K/ICQEJscjoZyuUrk8RCnqBk4b1HTcM5Wrago/564ajh5vV5dvHhRZWVlkqQLFy4oJCRE9erVU1JSkhYsWKBFixZp0qRJOn78uFauXKkJEyb4jh89erRWrFih3r17q1WrVlqyZInq1aunwYMHS1K1zWHC67UkcbIF3qWY9XgseTzea4wFbhSct6hpOGerk826yvtUmZmZeuqpp3xXYizLks1m05/+9Cf17NlT//M//6PZs2fr4MGDioiI0KhRo/TLX/7Sb47Fixdr3bp1Ki4uVrdu3fTMM8/otttu8+2vrjmupaDg3LUH4bqFhNgVFRWuwsJivphRY3DeoqbhnK1a0dH+91pfNZzqEsKpavDFjJqI8xY1Deds1fpuOPErVwAAAAwRTgAAAIYIJwAAAEOEEwAAgCHCCQAAwFCF/gFMADBVVlam3NyDwV6GMbvdLoejgVyuUnm9N/5PKMXEdFVYWFiwlwHUGYQTgCqVm3tQSUkLJUUHeym1UIG2b5+i7t3jg70QoM4gnABUg2hJLYK9CACoNO5xAgAAMEQ4AQAAGCKcAAAADBFOAAAAhggnAAAAQ4QTAACAIcIJAADAEOEEAABgiHACAAAwRDgBAAAYIpwAAAAMEU4AAACGCCcAAABDhBMAAIAhwgkAAMAQ4QQAAGCIcAIAADBEOAEAABginAAAAAwRTgAAAIYIJwAAAEOEEwAAgCHCCQAAwBDhBAAAYIhwAgAAMEQ4AQAAGCKcAAAADBFOAAAAhggnAAAAQ4QTAACAIcIJAADAEOEEAABgiHACAAAwRDgBAAAYIpwAAAAMEU4AAACGCCcAAABDhBMAAIAhwgkAAMAQ4QQAAGCIcAIAADBEOAEAABginAAAAAwRTgAAAIYIJwAAAEOEEwAAgCHCCQAAwBDhBAAAYIhwAgAAMEQ4AQAAGCKcAAAADBFOAAAAhggnAAAAQ4QTAACAIcIJAADAEOEEAABgiHACAAAwVKlwOnv2rKZPn66+ffuqV69eevDBB7Vnzx7f/uzsbCUnJysuLk6DBw/WmjVr/I4vKyvT7Nmz1adPHyUmJio9PV1nzpzxGxOIOQAAAAKhUuE0a9Ys5efn6y9/+Yuys7M1ZMgQPfLIIyoqKlJeXp7S09M1cuRI7d27V3PnztWCBQv0zjvv+I6fO3eu9u3bp6ysLH3wwQdyOByaNGmSb/+pU6cqPQcAAECgVCqcTpw4oSFDhujmm2+WzWbTz3/+c5WUlOjLL79UZmam2rVrp1GjRik0NFQ9e/ZUSkqKVq1aJenSlaLMzExNmTJFzZo1U3h4uGbMmKHDhw/rk08+kSRt3Lix0nMAAAAESqXCKS0tTdu3b1dBQYHKy8v15ptvqk2bNnI6nTp06JBiY2P9xsfGxurzzz+XJB09elQXLlzwG9O4cWO1bNlSubm5khSQOQAAAAIltDIHJyQkaNOmTerfv79CQ0PlcDiUkZGhsLAwud1utWvXzm98ZGSkiouLJUlut9u37dscDodvXyDmMGG322Sz2YzHw0xIiO1b/+XnEOoqu52/+6pkt9sVEsLnuC7jtbZ6VTicLMvSuHHj1KtXL+3Zs0fh4eF69913lZaWpjfffFMREREqKiryO6aoqEjh4eGSpIiICN+2Jk2a+Ma4XC7fvkDMYSIqKpxwqkIOR8NgLwFB5HA0CPYSajWHo4GiosKDvQzcAHitrR4VDieXy6WvvvpKGRkZatSokSTp7rvvVuvWrfXRRx/J6XRq586dfsfk5OSoS5cukqT27durfv36ysnJ0aBBgyRJhYWFysvL842pzBwxMTHGz6WwsJhwqgIhITY5HA3lcpXI47GCvRwEictVGuwl1GouV6kKC4uDvQwEEa+1Veu735hUOJxuvvlmdejQQatWrdKTTz6p8PBwvffeezpy5Ii6deum1q1b649//KPWrl2rlJQUffrpp9q4caPmzp0rSQoLC1NycrIWLVokp9OpRo0aad68eerUqZMSEhIkScnJyRWeIzEx0fi5eL2WJE62wLt0ydjjseTxeIO8FgSL18vffVXyer18fdV5vNZWJ5tlWRUuhhMnTmjevHnav3+/ysrK1Lx5c40bN04jR46UJO3Zs0e//e1vdezYMd1yyy1KS0vTgw8+6Du+rKxM8+bN05YtW1ReXq5evXpp9uzZatq0qW9MIOa4loKCcxX9FOAHhITYFRUVrsLCYr6Y67BPP92vpKRVkloEeym10Clt3z5G3bvHB3shCCJea6tWdHQjv48rFU61BeFUNfhihkQ4VS3CCbzWVrXvhhO33wMAABginAAAAAwRTgAAAIYIJwAAAEOEEwAAgCHCCQAAwBDhBAAAYIhwAgAAMEQ4AQAAGCKcAAAADBFOAAAAhggnAAAAQ4QTAACAIcIJAADAEOEEAABgiHACAAAwRDgBAAAYIpwAAAAMEU4AAACGCCcAAABDhBMAAIAhwgkAAMAQ4QQAAGCIcAIAADBEOAEAABginAAAAAwRTgAAAIYIJwAAAEOEEwAAgCHCCQAAwBDhBAAAYIhwAgAAMEQ4AQAAGCKcAAAADBFOAAAAhggnAAAAQ4QTAACAIcIJAADAEOEEAABgiHACAAAwRDgBAAAYIpwAAAAMEU4AAACGCCcAAABDhBMAAIAhwgkAAMAQ4QQAAGCIcAIAADBEOAEAABginAAAAAwRTgAAAIYIJwAAAEOEEwAAgCHCCQAAwBDhBAAAYIhwAgAAMEQ4AQAAGCKcAAAADBFOAAAAhggnAAAAQ4QTAACAIcIJAADAEOEEAABgiHACAAAwVOlw2r9/v8aPH6+EhAT17NlTo0aN8u07dOiQHnroIcXHx2vAgAHKyMi44vhFixapf//+io+P19ixY3X48GG//YGYAwAAIBAqFU779+/XL37xCyUnJ2vXrl3Kzs7WU089JUkqLi7WxIkTlZiYqOzsbC1fvlzr16/XG2+84Tt++fLlyszM1MqVK5Wdna34+HilpqaqtLQ0YHMAAAAESqXCaf78+RoxYoSGDRumsLAw2e123X777ZKkbdu2ybIsTZ48WWFhYerUqZNSU1O1atUq3/Fr1qxRamqqOnbsqLCwME2ePFnl5eXavn17wOYAAAAIlAqH0/nz57V//37Z7XaNHDlSvXv3VkpKirZt2ybp0ltsMTExstv/7yFiY2N18uRJFRcXy+12Ky8vT7Gxsb79ISEh6tKli3JzcwM2BwAAQKCEVvRAl8slr9erTZs26dVXX1VMTIx27NihqVOn6s0335Tb7VZkZKTfMZc/drvdsixLktSoUaMrxrjdbt+4ys5hwm63yWazGY+HmZAQ27f+y88h1FXf/sYHgWe32xUSwue4LuO1tnpVOJzCw8MlScnJyerataskKSkpSb1799aOHTsUERGh/Px8v2OKiookSREREb7oOXfu3BVjmjVr5htX2TlMREWFE05VyOFoGOwlIIgcjgbBXkKt5nA0UFRUeLCXgRsAr7XVo8LhFBERodatW191f0xMjLZs2SKv1+v7jjMnJ0etWrXyRVfLli2Vk5Oj7t27S5I8Ho9yc3M1fPjwSs8xbNgw4+dSWFhMOFWBkBCbHI6GcrlK5PFYwV4OgsTl4gc1qpLLVarCwuJgLwNBxGtt1fruNyYVDidJeuihh7Rs2TINHTpUnTt31s6dO7V3715NmTJF7du314IFC7Ro0SJNmjRJx48f18qVKzVhwgTf8aNHj9aKFSvUu3dvtWrVSkuWLFG9evU0ePBgSZeuYFV0jqSkJOPn4fVakjjZAu9S7Ho8ljweb5DXgmDxevm7r0per5evrzqP19rqVKlwGjdunM6fP6/09HSdO3dObdq00cKFC303a//xj3/U7Nmz9frrrysiIkKjRo3S+PHjfcenpqaqpKREDz/8sIqLi9WtWzctX75cDRpcurQfHh5e6TkAAAACxWZdvlGoDisoOHftQbhuISF2RUWFq7CwmO+C6rBPP92vpKRVkloEeym10Clt3z5G3bvHB3shCCJea6tWdLT/D6Bx+z0AAIAhwgkAAMAQ4QQAAGCIcAIAADBEOAEAABginAAAAAwRTgAAAIYIJwAAAEOEEwAAgCHCCQAAwBDhBAAAYIhwAgAAMEQ4AQAAGCKcAAAADBFOAAAAhggnAAAAQ4QTAACAIcIJAADAEOEEAABgiHACAAAwRDgBAAAYIpwAAAAMEU4AAACGCCcAAABDhBMAAIAhwgkAAMAQ4QQAAGCIcAIAADBEOAEAABginAAAAAwRTgAAAIYIJwAAAEOEEwAAgCHCCQAAwBDhBAAAYIhwAgAAMEQ4AQAAGCKcAAAADBFOAAAAhggnAAAAQ4QTAACAIcIJAADAEOEEAABgiHACAAAwRDgBAAAYIpwAAAAMEU4AAACGCCcAAABDhBMAAIAhwgkAAMAQ4QQAAGCIcAIAADBEOAEAABginAAAAAwRTgAAAIYIJwAAAEOEEwAAgCHCCQAAwBDhBAAAYIhwAgAAMEQ4AQAAGCKcAAAADBFOAAAAhggnAAAAQ4QTAACAoYCF0y9/+Us5nU59/PHHvm3Z2dlKTk5WXFycBg8erDVr1vgdU1ZWptmzZ6tPnz5KTExUenq6zpw54zcmEHMAAAAEQkDCKSsrS+fPn5fNZvNty8vLU3p6ukaOHKm9e/dq7ty5WrBggd555x3fmLlz52rfvn3KysrSBx98IIfDoUmTJvn2nzp1qtJzAAAABEqlw+nMmTNatGiRXnjhBVmW5duemZmpdu3aadSoUQoNDVXPnj2VkpKiVatWSbp0pSgzM1NTpkxRs2bNFB4erhkzZujw4cP65JNPJEkbN26s9BwAAACBElrZCZ5++mlNmjRJzZo189t+6NAhxcbG+m2LjY1VVlaWJOno0aO6cOGC35jGjRurZcuWys3NVWJiYkDmMGG32/yuliEwQkJs3/ovt9PVVXY7f/dVyW63KySEz3Fdxmtt9apUOF2+8jNy5EjftssB4na71a5dO7/xkZGRKi4u9u2/vO3bHA6Hb18g5jARFRVOOFUhh6NhsJeAIHI4GgR7CbWaw9FAUVHhwV4GbgC81laPCofTyZMntWTJEq1fv95v++W36yIiIlRUVOS3r6ioSOHh4b79l7c1adLEN8blcvn2BWIOE4WFxYRTFQgJscnhaCiXq0Qej3XtA1AruVylwV5CreZylaqwsDjYy0AQ8Vpbtb77jUmFw2nv3r1yuVxKTk72u7fp0Ucf1b333quYmBjt2LHD75icnBx16dJFktS+fXvVr19fOTk5GjRokCSpsLBQeXl5vjFOp1M7d+6s0BwxMTHGz8XrtSRxsgXepUvGHo8lj8cb5LUgWLxe/u6rktfr5eurzuO1tjpV+M3QoUOH6p133lFWVpY2bdqkTZs2SZKee+45PfbYY/rZz36mY8eOae3atSovL9fevXu1ceNGjRkzRpIUFham5ORkLVq0SKdPn5bb7da8efPUqVMnJSQkSJKSk5MrPIfp/U0AAACmKhxO9evXV9OmTf3+2Gw23XzzzYqMjFSLFi20bNkyrVu3Tj179tSTTz6p6dOna/Dgwb45ZsyYoYSEBA0fPlwDBgyQy+XSkiVLfPsDMQcAAECg2Kxvv89WRxUUnAv2EmqlkBC7oqLCVVhYzOXjOuzTT/crKWmVpBbBXkotdErbt49R9+7xwV4IgojX2qoVHd3I72N+bhEAAMAQ4QQAAGCIcAIAADBEOAEAABginAAAAAwRTgAAAIYIJwAAAEOEEwAAgCHCCQAAwBDhBAAAYIhwAgAAMEQ4AQAAGCKcAAAADBFOAAAAhkKDvQBcn7KyMuXmHgz2MozY7XY5HA3kcpXK6/UGeznXFBPTVWFhYcFeBgDgBkY41TC5uQeVlLRQUnSwl1LLFGj79inq3j0+2AsBANzACKcaKVpSi2AvAgCAOod7nAAAAAwRTgAAAIYIJwAAAEOEEwAAgCHCCQAAwBDhBAAAYIhwAgAAMEQ4AQAAGCKcAAAADBFOAAAAhggnAAAAQ4QTAACAIcIJAADAEOEEAABgiHACAAAwRDgBAAAYIpwAAAAMEU4AAACGCCcAAABDhBMAAIAhwgkAAMAQ4QQAAGCIcAIAADBEOAEAABginAAAAAwRTgAAAIYIJwAAAEOEEwAAgCHCCQAAwBDhBAAAYIhwAgAAMEQ4AQAAGAoN9gIAALjRlJWVKTf3YLCXYcRut8vhaCCXq1RerzfYyzESE9NVYWFhwV5GhRBOAAB8R27uQSUlLZQUHeyl1EIF2r59irp3jw/2QiqEcAIA4HtFS2oR7EXgBsM9TgAAAIYIJwAAAEOEEwAAgCHCCQAAwBDhBAAAYIhwAgAAMEQ4AQAAGCKcAAAADBFOAAAAhggnAAAAQ4QTAACAIcIJAADAUIXDacGCBbr//vuVmJio/v37a/r06Tpz5ozfmNOnTys9PV0JCQm644479Pzzz+vixYt+Y1atWqW77rpL8fHxSk5O1t69ewM+BwAAQCBUOJzsdrvmzZun7Oxsbd26VZKUnp7u229Zln7xi1+ocePG+uijj7Rx40bt2bNHv//9731jtm7dqoULF+r3v/+99uzZo5SUFKWlpSk/Pz9gcwAAAARKhcNp6tSp6tKli0JDQxUREaG0tDR98cUXOnfunCRpz549OnbsmGbMmKGGDRuqefPmmjx5stavX6/y8nJJ0po1a5SSkqIePXooNDRUY8aMUdu2bbVx48aAzQEAABAoAbvH6cMPP1SLFi3UqFEjSdKhQ4fUqlUrORwO35jY2FiVlpbq2LFjvjG333673zyxsbHKzc0N2BwAAACBEhqISf7+97/rlVdeUUZGhm+b2+1WZGSk37jLAeR2u33/vRxal0VGRuqrr74K2Bwm7HabbDab8fhgstu5n7+q2O12hYTw+Q00ztmqxXlbNThvq1ZNPm8rHU7vvvuunnjiCc2fP199+/b1bY+IiFBRUZHfWJfLJUm+0ImIiPC9tXdZUVGRIiIiAjaHiaio8BoTTg5Hg2AvodZyOBooKio82MuodThnqxbnbdXgvK1aNfm8rVQ4bd68Wc8//7xefvll/fjHP/bbFxMTo6+++koul8t3lSgnJ0cNGjRQmzZtJElOp1M5OTkaOnSo77gDBw4oKSkpYHOYKCwsrjHh5HKVBnsJtZbLVarCwuJgL6PW4ZytWpy3VYPztmrVpPP2u4FX4XB688039fLLL2vp0qVKTEy8Yn+PHj3Uvn17/e53v9PMmTPlcrm0ePFijRw5UmFhYZKk0aNH65lnntHdd9+t7t27a/369fryyy+VnJwcsDlMeL2WJKuin4pq5fV6g72EWsvr9crj4fMbaJyzVYvztmpw3latmnzeVjic5syZo9DQUKWlpUm69E8H2Gw2vfbaa0pMTJTNZtPSpUs1a9Ys9evXT/Xr19d9992nxx9/3DfHPffco7Nnz+qJJ55QYWGh2rdvr2XLlqlp06aSFJA5AAAAAqXC4XTo0KFrjmnevLleffXVHxwzZswYjRkzpkrnAAAACISaeUs7AABAEBBOAAAAhggnAAAAQ4QTAACAIcIJAADAEOEEAABgiHACAAAwRDgBAAAYIpwAAAAMEU4AAACGCCcAAABDhBMAAIAhwgkAAMAQ4QQAAGCIcAIAADBEOAEAABginAAAAAwRTgAAAIYIJwAAAEOEEwAAgCHCCQAAwBDhBAAAYIhwAgAAMEQ4AQAAGCKcAAAADBFOAAAAhggnAAAAQ4QTAACAIcIJAADAEOEEAABgiHACAAAwRDgBAAAYIpwAAAAMEU4AAACGCCcAAABDhBMAAIAhwgkAAMAQ4QQAAGCIcAIAADBEOAEAABginAAAAAwRTgAAAIYIJwAAAEOEEwAAgCHCCQAAwBDhBAAAYIhwAgAAMEQ4AQAAGCKcAAAADBFOAAAAhggnAAAAQ4QTAACAIcIJAADAEOEEAABgiHACAAAwRDgBAAAYIpwAAAAMEU4AAACGCCcAAABDhBMAAIAhwgkAAMAQ4QQAAGCIcAIAADBEOAEAABiqNeG0aNEi9e/fX/Hx8Ro7dqwOHz4c7CUBAIBaplaE0/Lly5WZmamVK1cqOztb8fHxSk1NVWlpabCXBgAAapFaEU5r1qxRamqqOnbsqLCwME2ePFnl5eXavn17sJcGAABqkRofTm63W3l5eYqNjfVtCwkJUZcuXZSbmxvElQEAgNomNNgLqCy32y1JatSokd/2yMhI375rsdttstlsAV9bVbDb7ZIKgr2MWqhAdrtdISE1/nuJGw7nbFXivK0qnLdVqWaftzU+nCIiIiRJ586d89teVFSkZs2aGc1xyy0RAV9XVbnrrn6yrH7BXgZgjHMWNRHnLa6mZubet0RERKhly5bKycnxbfN4PMrNzVVMTEwQVwYAAGqbGh9OkjR69GitWLFChw8f1vnz57Vo0SLVq1dPSUlJwV4aAACoRWr8W3WSlJqaqpKSEj388MMqLi5Wt27dtHz5cjVo0CDYSwMAALWIzbIsK9iLAAAAqAlqxVt1AAAA1YFwAgAAMEQ4AQAAGCKcAAAADBFOAADcdiz6AAAME0lEQVQAhggnAAAAQ4QTjG3YsEFOp1MvvfTSdR2Xl5cnp9OpkydPVtHKgOv3xRdfaNq0aerXr58SEhJ09913a/r06fr8888lSefPn9fLL7+sn/zkJ4qLi1O/fv00evRorV+/PsgrR131Q+dsZmamBg4ceMUxu3fvltPplNfrDcKKayfCCcbWrFmjxo0ba8OGDSovLzc+zrKsGvNLlFE3ZGdn64EHHlB0dLTeeust7du3T5s2bVLfvn319ttvq7S0VKNHj9YHH3ygOXPmaPfu3frwww81ffp0vf3228FePuqga52zkq76Osvrb4BZgIHPPvvMcjqd1ocffmh169bN2rx5s2/fQw89ZC1cuNBv/KBBg6z169dblmVZcXFxltPptOLi4qz4+Hjr2WeftSzLsoqKiqyZM2daAwYMsPr06WOlpaVZR48erbbnhLpryJAh1pNPPnnV/UuWLLF69eplffPNN9W4KuDqrnXObty40Ro4cOAV27Ozsy2n02l5PJ4qXF3dwhUnGFm9erViYmLUr18/JSUlafXq1cbHbtmyRZK0efNm7du3T7NmzZIkPf744zpx4oQyMzP13nvvqW3btnr44YdVWlpaFU8BkCQdP35cX375pYYNG3bVMe+//74GDBigm2++uRpXBnw/k3P2aix+OUjA1YrfVYeqVVRUpK1bt+qpp56SJD3wwAN6+OGH9cUXX6hz584VmrOgoEDvvfeeNm/erKioKEnSE088oc2bN+vdd9/V0KFDA7Z+4NvOnj0rm82mpk2bXnVMYWGhevToUY2rAq7O5JyVpPz8fPXq1ctv2/XcVgEzXHHCNW3YsEE2m0333XefJKl3795q3br1dV11+q7Tp0/LZrOpVatWvm2hoaFq0aKFTp8+Xek1A1dzyy23yLIs5efnX3VMVFSUzpw5U42rAq7O5JyVpKZNm2r37t1+f1599dVqWmXdQTjhmtauXavy8nINGTJE/fr1U//+/ZWfn6//+q//ktvtVnh4uN/baxcvXlRhYaHvY7vdfsXl4ubNm0uSTpw44dvm8Xh0+vRp3z6gKrRp00Zt27bVpk2brjrmzjvv1IcffiiXy1WNKwO+n8k5i+pDOOEHffTRRzpx4oRWrlypTZs2+f2RpKysLHXr1k07d+7U119/rfPnz2vBggW6ePGib46oqCiFhITo6NGjvm3R0dEaOHCg5s2bp7Nnz+r8+fN68cUXFRYWpjvvvLO6nybqmOeee05/+9vfNG/ePJ06dUqS5Ha7lZWVpYULF2r8+PFq0aKF0tLStH//fpWVlcnr9eof//iH0tLSgrx61EXXOmdRfbjHCT9o7dq1+vGPf6yePXv6bb/llls0YsQIrV27VuvWrdORI0c0dOhQRUZG6pFHHvF7L75+/fqaOnWqnn76aZWVlem+++7TM888o3nz5mn+/Pn62c9+prKyMsXGxmrlypVq2LBhdT9N1DG9evXSW2+9paVLl2rkyJEqLS1V48aNFR8fr4kTJ+qmm27S6tWr9dprr+npp5/W6dOnFR4erjZt2ig5OTnYy0cddK1zNjc3N9hLrDNsFrfcAwAAGOGtOgAAAEOEEwAAgCHCCQAAwBDhBAAAYIhwAgAAMEQ4AQAAGCKcAAAADBFOAAAAhggnAAAAQ4QTgGr11FNPyel0yul0qkuXLho8eLDmzJkjt9sd7KUZy8jIuOJXXOzevVtOp1MnT56sksccOHCgMjIyqmRuAOb4XXUAqp3T6dRzzz0nj8ejAwcO6D/+4z+Un5+vxYsXB3tpRjIyMtSsWTPFxMT4bbfZbEFaEYDqQjgBqHbh4eG6/fbbJUnx8fEqKSnRwoULVVhYqKioqCCvDgCujrfqAATd5Ss3p06d0oYNG/Tzn/9cPXr0UL9+/TR16lSdPXvWN3batGlKTU29Yo7HHntM48aNkyRlZ2fL6XQqOztbqampiouL0/Dhw/XFF1/I7XZr6tSpSkhI0L333qvdu3f7zXP+/HnNnTtXAwYMUGxsrEaOHKm9e/f69judTtlsNs2cOVNOp/OKq075+fl65JFHFB8fr3vvvVc7d+70219SUqJnnnlGd9xxh+Li4jR27FgdPHjQb8zJkyc1duxY3X777br//vv18ccfV+CzCqAqEE4Agi4vL0+SFB0drTNnzujBBx/UK6+8olmzZik/P1//+q//6hubnJysXbt26euvv/ZtKykp0Y4dO5ScnCzp/94ye/bZZzVo0CBlZGQoJCREkydP1lNPPaVOnTopIyNDLVq00NSpU1VWVuab69///d+1detWTZ48WUuXLlXr1q01ceJE5efnS5LeeustWZal9PR0vfXWW1q3bp3vWMuyNHPmTPXp00d/+MMf1LZtW02bNk3ffPONb8yMGTP09ttva9q0aVq4cKEkacKECSosLPSNmTRpkgoKCvTSSy8pLS1Nzz77rIqLiwP2+QZQCRYAVKMZM2ZYo0ePti5evGhduHDB2rt3r3XnnXdaKSkpV4z1eDxWXl6e1blzZ+vAgQOWZVmW1+u1Bg4caL322mu+cRs2bLDi4uKs4uJiy7IsKzs72+rcubO1YsUK35j333/f6ty5szVnzhzftiNHjlidO3e2du3aZVmWZf33f/+35XQ6rYMHD/qt46c//an129/+1vdx586drfXr1/uNufyY317X2bNnLafTaW3atMmyLMs6fPiw1blzZ2vbtm2+MSUlJVbv3r2t+fPnW5ZlWTt27LCcTqd1+PBh35idO3danTt3thYvXvyDn1sAVY97nABUu08++URdu3aVdOnqUFxcnObOnStJOnTokF588UUdOHBALpfLN+b48ePq2rWrbDabhg0bpk2bNmnixImSpE2bNikpKUkNGzb0PYbNZlPv3r19H7du3VqS1KtXryu2Xb56tWvXLv3oRz9S586d5fF4JF26itSzZ88r3k77PjabTXfccYfv46ioKDVu3Nh3tSonJ0ehoaG6++67fWMaNGiggQMHKicnR5J08OBBtWzZUh07dvSNGThwoEJCQq75+ACqHuEEoNrFxMTohRdekN1uV/PmzeVwOCRJbrdbEydOVNu2bfX888+radOmsixLDz74oN/bacnJyVq2bJk+//xzRUVFaffu3VqxYsUVj9OoUSPf/9erV0+SFBERccW2CxcuSJK++eYbnTx50hd1l9lsNrVo0cLouUVGRvp9XK9ePd/8BQUFioyMlN3uf5fELbfcogMHDkiS/vd///eKG+TtdvsV8wIIDsIJQLVr2LChunTpcsX2f/zjHzp79qw2bNigpk2bStL3/rtIbdq0UUJCgjIzM9WkSRM1bdrU70pPRTkcDrVu3VoLFy6UZVl++y5HVmXceuutKioqktfr9Yuns2fPKjo6WpLUpEkTv/udJMnr9aqoqKjSjw+g8rg5HMAN4/z585Kk0ND/+55u69at3/vvIyUnJ+svf/mLMjMzNWzYsIA8fp8+fXTmzBk5HA517drV70+nTp1840JDQ/2ugJnq1q2bLl68qB07dvi2lZaW6v3331f37t19Y/Ly8nT48GHfmPfee8/31iGA4OKKE4AbRlxcnG666Sb95je/8f2Y/saNG7937L333qs5c+bom2+++d5w+u4VIxP9+vVTr169NH78eKWlpaldu3YqKirSZ599pqioKE2YMEGS1K5dO23btk1Op1NhYWHq1q2b0WN27NhR//Iv/6Lf/OY3+uc//6kmTZpoxYoV8ng8Gj9+vCTpzjvvVPv27fWrX/1K06ZNU2lpqf7whz/4vcUIIHi44gTghtGkSRMtWLBAR48e1aRJk/TBBx9c9deMNGzYUL1791ZsbKzat29/xf7vu0plsu2VV17RT37yE7322mtKTU3V888/r6NHjyo2NtY3ZubMmSosLNT48eM1cuTI65r/d7/7nYYMGaKXXnpJU6ZMkSS98cYbvvuabDabli5dqltvvVWPP/64li1bplmzZhFOwA3CZlXk2zIACLILFy6of//+mjp1qkaNGhXs5QCoI3irDkCNUl5ertzcXP3nf/6nLMvS/fffH+wlAahDCCcANcrXX3+tBx54QLfeeqteeOEF3sICUK14qw4AAMAQN4cDAAAYIpwAAAAMEU4AAACG/h/zFAHtQgdg9QAAAABJRU5ErkJggg==\" class=\"pd_save\"></center>\n                        \n                    \n                \n        </div>\n    ", 
                        "text/plain": "<IPython.core.display.HTML object>"
                    }, 
                    "metadata": {}, 
                    "output_type": "display_data"
                }
            ]
        }, 
        {
            "source": "### Step 6: Build the Spark pipeline and the Random Forest model\n\"Pipeline\" is an API in SparkML that's used for building models.\nAdditional information on SparkML: https://spark.apache.org/docs/2.0.2/ml-guide.html", 
            "metadata": {}, 
            "cell_type": "markdown"
        }, 
        {
            "execution_count": 5, 
            "source": "from pyspark.ml.feature import OneHotEncoder, StringIndexer, VectorIndexer, IndexToString\nfrom pyspark.ml import Pipeline\nfrom pyspark.ml.feature import VectorAssembler\nfrom pyspark.ml.classification import RandomForestClassifier\n\n# Prepare string variables so that they can be used by the decision tree algorithm\n# StringIndexer encodes a string column of labels to a column of label indices\nSI1 = StringIndexer(inputCol='Gender', outputCol='GenderEncoded')\nSI2 = StringIndexer(inputCol='Status',outputCol='StatusEncoded')\nSI3 = StringIndexer(inputCol='CarOwner',outputCol='CarOwnerEncoded')\nSI4 = StringIndexer(inputCol='Paymethod',outputCol='PaymethodEncoded')\nSI5 = StringIndexer(inputCol='LocalBilltype',outputCol='LocalBilltypeEncoded')\nSI6 = StringIndexer(inputCol='LongDistanceBilltype',outputCol='LongDistanceBilltypeEncoded')\n\n#encode the Label column\nlabelIndexer = StringIndexer(inputCol='CHURN', outputCol='label').fit(data)\n\n\n# Pipelines API requires that input variables are passed in  a vector\nassembler = VectorAssembler(inputCols=[\"GenderEncoded\", \"StatusEncoded\", \"CarOwnerEncoded\", \"PaymethodEncoded\", \"LocalBilltypeEncoded\", \"LongDistanceBilltypeEncoded\",\\\n                                       \"Children\", \"EstIncome\", \"Age\", \"LongDistance\", \"International\", \"Local\",\\\n                                       \"Dropped\",\"Usage\",\"RatePlan\"], outputCol=\"features\")", 
            "metadata": {
                "collapsed": true
            }, 
            "cell_type": "code", 
            "outputs": []
        }, 
        {
            "execution_count": 9, 
            "source": "# instantiate the algorithm, take the default settings\nrf=RandomForestClassifier(labelCol=\"label\", featuresCol=\"features\")\n\n# Convert indexed labels back to original labels.\nlabelConverter = IndexToString(inputCol=\"prediction\", outputCol=\"predictedLabel\", labels=labelIndexer.labels)\n\npipeline = Pipeline(stages=[SI1,SI2,SI3,SI4,SI5,SI6,labelIndexer, assembler, rf, labelConverter])", 
            "metadata": {}, 
            "cell_type": "code", 
            "outputs": []
        }, 
        {
            "execution_count": 10, 
            "source": "# Split data into train and test datasets\ntrain, test = data.randomSplit([0.8,0.2], seed=6)\ntrain.cache()\ntest.cache()", 
            "metadata": {}, 
            "cell_type": "code", 
            "outputs": [
                {
                    "execution_count": 10, 
                    "data": {
                        "text/plain": "DataFrame[ID: int, Gender: string, Status: string, Children: double, EstIncome: double, CarOwner: string, Age: double, LongDistance: double, International: double, Local: double, Dropped: double, Paymethod: string, LocalBilltype: string, LongDistanceBilltype: string, Usage: double, RatePlan: double, CHURN: string]"
                    }, 
                    "metadata": {}, 
                    "output_type": "execute_result"
                }
            ]
        }, 
        {
            "execution_count": 11, 
            "source": "# Build model. The fitted model from a Pipeline is a PipelineModel, which consists of fitted models and transformers, corresponding to the pipeline stages.\nmodel = pipeline.fit(train)", 
            "metadata": {}, 
            "cell_type": "code", 
            "outputs": []
        }, 
        {
            "source": "### Step 7: Score the test data set", 
            "metadata": {
                "collapsed": true
            }, 
            "cell_type": "markdown"
        }, 
        {
            "execution_count": 12, 
            "source": "results = model.transform(test)\nresults=results.select(results[\"ID\"],results[\"CHURN\"],results[\"label\"],results[\"predictedLabel\"],results[\"prediction\"],results[\"probability\"])\nresults.toPandas().head(6)", 
            "metadata": {}, 
            "cell_type": "code", 
            "outputs": [
                {
                    "execution_count": 12, 
                    "data": {
                        "text/html": "<div>\n<table border=\"1\" class=\"dataframe\">\n  <thead>\n    <tr style=\"text-align: right;\">\n      <th></th>\n      <th>ID</th>\n      <th>CHURN</th>\n      <th>label</th>\n      <th>predictedLabel</th>\n      <th>prediction</th>\n      <th>probability</th>\n    </tr>\n  </thead>\n  <tbody>\n    <tr>\n      <th>0</th>\n      <td>14</td>\n      <td>F</td>\n      <td>0</td>\n      <td>F</td>\n      <td>0</td>\n      <td>[0.950664630167, 0.0493353698327]</td>\n    </tr>\n    <tr>\n      <th>1</th>\n      <td>18</td>\n      <td>F</td>\n      <td>0</td>\n      <td>F</td>\n      <td>0</td>\n      <td>[0.742965206751, 0.257034793249]</td>\n    </tr>\n    <tr>\n      <th>2</th>\n      <td>21</td>\n      <td>F</td>\n      <td>0</td>\n      <td>F</td>\n      <td>0</td>\n      <td>[0.645390363857, 0.354609636143]</td>\n    </tr>\n    <tr>\n      <th>3</th>\n      <td>22</td>\n      <td>F</td>\n      <td>0</td>\n      <td>F</td>\n      <td>0</td>\n      <td>[0.613449745089, 0.386550254911]</td>\n    </tr>\n    <tr>\n      <th>4</th>\n      <td>29</td>\n      <td>T</td>\n      <td>1</td>\n      <td>T</td>\n      <td>1</td>\n      <td>[0.318897922228, 0.681102077772]</td>\n    </tr>\n    <tr>\n      <th>5</th>\n      <td>40</td>\n      <td>T</td>\n      <td>1</td>\n      <td>T</td>\n      <td>1</td>\n      <td>[0.21778202071, 0.78221797929]</td>\n    </tr>\n  </tbody>\n</table>\n</div>", 
                        "text/plain": "   ID CHURN  label predictedLabel  prediction  \\\n0  14     F      0              F           0   \n1  18     F      0              F           0   \n2  21     F      0              F           0   \n3  22     F      0              F           0   \n4  29     T      1              T           1   \n5  40     T      1              T           1   \n\n                         probability  \n0  [0.950664630167, 0.0493353698327]  \n1   [0.742965206751, 0.257034793249]  \n2   [0.645390363857, 0.354609636143]  \n3   [0.613449745089, 0.386550254911]  \n4   [0.318897922228, 0.681102077772]  \n5     [0.21778202071, 0.78221797929]  "
                    }, 
                    "metadata": {}, 
                    "output_type": "execute_result"
                }
            ]
        }, 
        {
            "source": "### Step 8: Model Evaluation ", 
            "metadata": {}, 
            "cell_type": "markdown"
        }, 
        {
            "execution_count": 13, 
            "source": "print 'Precision model1 = {:.2f}.'.format(results.filter(results.label == results.prediction).count() / float(results.count()))", 
            "metadata": {}, 
            "cell_type": "code", 
            "outputs": [
                {
                    "name": "stdout", 
                    "output_type": "stream", 
                    "text": "Precision model1 = 0.90.\n"
                }
            ]
        }, 
        {
            "execution_count": 14, 
            "source": "from pyspark.ml.evaluation import BinaryClassificationEvaluator\n\n# Evaluate model\nevaluator = BinaryClassificationEvaluator(rawPredictionCol=\"prediction\", labelCol=\"label\", metricName=\"areaUnderROC\")\nprint 'Area under ROC curve = {:.2f}.'.format(evaluator.evaluate(results))", 
            "metadata": {}, 
            "cell_type": "code", 
            "outputs": [
                {
                    "name": "stdout", 
                    "output_type": "stream", 
                    "text": "Area under ROC curve = 0.89.\n"
                }
            ]
        }, 
        {
            "source": "We have finished building and testing a predictive model. The next step is to deploy it for real time scoring. ", 
            "metadata": {}, 
            "cell_type": "markdown"
        }, 
        {
            "source": "### Step 9: Persist model", 
            "metadata": {}, 
            "cell_type": "markdown"
        }, 
        {
            "source": "In this section you will learn how to store your pipeline and model in Watson Machine Learning repository by using python client libraries.\n\nFirst, you must import client libraries.\n\n**Note**: Apache\u00ae Spark 2.0 or higher is required.", 
            "metadata": {}, 
            "cell_type": "markdown"
        }, 
        {
            "execution_count": 15, 
            "source": "from repository.mlrepositoryclient import MLRepositoryClient\nfrom repository.mlrepositoryartifact import MLRepositoryArtifact", 
            "metadata": {
                "collapsed": true
            }, 
            "cell_type": "code", 
            "outputs": []
        }, 
        {
            "source": "Authenticate to Watson Machine Learning service on Bluemix.\n\n**Action**: Put authentication information from your instance of Watson Machine Learning service here.</div>", 
            "metadata": {
                "collapsed": true
            }, 
            "cell_type": "markdown"
        }, 
        {
            "execution_count": 16, 
            "source": "wml_credentials={\n  \"url\": \"https://ibm-watson-ml.mybluemix.net\",\n  \"access_key\": \"X76Yu8/fV526oP70L7tQ38+kReWmaFiXJmruwas0z0Kxw13lGFyPu/tsKh3P0I5IHxGxQ3pIogjgEOjN0TGDTcL0h32gVzPkwMbmHXNpi+FQYUqQmv73SQJrb1WXWeZv\",\n  \"username\": \"65a3184a-73f1-4619-830b-67fdade086f8\",\n  \"password\": \"70f9d64b-a157-4f9b-a1f8-be77092748a5\",\n  \"instance_id\": \"e4e074bd-fed8-45c3-af30-abaede0466f8\"\n}", 
            "metadata": {
                "collapsed": true
            }, 
            "cell_type": "code", 
            "outputs": []
        }, 
        {
            "source": "**Tip**: `wml_service_path`, user and `wml_password` can be found on **Service Credentials** tab of service instance created in Bluemix. If you cannot see **instance_id** field in **Serice Credentials** generate new credentials by pressing **New credential (+)** button. ", 
            "metadata": {}, 
            "cell_type": "markdown"
        }, 
        {
            "execution_count": 17, 
            "source": "ml_repository_client = MLRepositoryClient(wml_credentials['url'])\nml_repository_client.authorize(wml_credentials['username'], wml_credentials['password'])", 
            "metadata": {
                "collapsed": true
            }, 
            "cell_type": "code", 
            "outputs": []
        }, 
        {
            "source": "Create model artifact (abstraction layer).", 
            "metadata": {}, 
            "cell_type": "markdown"
        }, 
        {
            "execution_count": null, 
            "source": "model_artifact = MLRepositoryArtifact(model, training_data=train, name=\"Telco Churn Prediction\")", 
            "metadata": {}, 
            "cell_type": "code", 
            "outputs": []
        }, 
        {
            "source": "**Tip**: The MLRepositoryArtifact method expects a trained model object, training data, and a model name. (It is this model name that is displayed by the Watson Machine Learning service).", 
            "metadata": {
                "collapsed": true
            }, 
            "cell_type": "markdown"
        }, 
        {
            "source": "### Step 10: Save pipeline and model", 
            "metadata": {}, 
            "cell_type": "markdown"
        }, 
        {
            "source": "In this subsection you will learn how to save pipeline and model artifacts to your Watson Machine Learning instance.", 
            "metadata": {}, 
            "cell_type": "markdown"
        }, 
        {
            "execution_count": 21, 
            "source": "saved_model = ml_repository_client.models.save(model_artifact)", 
            "metadata": {
                "collapsed": true
            }, 
            "cell_type": "code", 
            "outputs": []
        }, 
        {
            "source": "Get saved model metadata from Watson Machine Learning.", 
            "metadata": {}, 
            "cell_type": "markdown"
        }, 
        {
            "source": "**Tip**: Use *meta.available_props()* to get the list of available props.", 
            "metadata": {}, 
            "cell_type": "markdown"
        }, 
        {
            "execution_count": 22, 
            "source": "saved_model.meta.available_props()", 
            "metadata": {}, 
            "cell_type": "code", 
            "outputs": [
                {
                    "execution_count": 22, 
                    "data": {
                        "text/plain": "['inputDataSchema',\n 'evaluationMetrics',\n 'pipelineVersionHref',\n 'modelVersionHref',\n 'trainingDataRef',\n 'pipelineType',\n 'creationTime',\n 'lastUpdated',\n 'label',\n 'authorEmail',\n 'trainingDataSchema',\n 'authorName',\n 'version',\n 'modelType',\n 'runtime',\n 'evaluationMethod']"
                    }, 
                    "metadata": {}, 
                    "output_type": "execute_result"
                }
            ]
        }, 
        {
            "execution_count": 23, 
            "source": "print \"modelType: \" + saved_model.meta.prop(\"modelType\")\nprint \"trainingDataSchema: \" + str(saved_model.meta.prop(\"trainingDataSchema\"))\nprint \"creationTime: \" + str(saved_model.meta.prop(\"creationTime\"))\nprint \"modelVersionHref: \" + saved_model.meta.prop(\"modelVersionHref\")\nprint \"label: \" + saved_model.meta.prop(\"label\")", 
            "metadata": {}, 
            "cell_type": "code", 
            "outputs": [
                {
                    "name": "stdout", 
                    "output_type": "stream", 
                    "text": "modelType: sparkml-model-2.1\ntrainingDataSchema: {u'fields': [{u'nullable': True, u'type': u'integer', u'name': u'ID', u'metadata': {}}, {u'nullable': True, u'type': u'string', u'name': u'Gender', u'metadata': {}}, {u'nullable': True, u'type': u'string', u'name': u'Status', u'metadata': {}}, {u'nullable': True, u'type': u'double', u'name': u'Children', u'metadata': {}}, {u'nullable': True, u'type': u'double', u'name': u'EstIncome', u'metadata': {}}, {u'nullable': True, u'type': u'string', u'name': u'CarOwner', u'metadata': {}}, {u'nullable': True, u'type': u'double', u'name': u'Age', u'metadata': {}}, {u'nullable': True, u'type': u'double', u'name': u'LongDistance', u'metadata': {}}, {u'nullable': True, u'type': u'double', u'name': u'International', u'metadata': {}}, {u'nullable': True, u'type': u'double', u'name': u'Local', u'metadata': {}}, {u'nullable': True, u'type': u'double', u'name': u'Dropped', u'metadata': {}}, {u'nullable': True, u'type': u'string', u'name': u'Paymethod', u'metadata': {}}, {u'nullable': True, u'type': u'string', u'name': u'LocalBilltype', u'metadata': {}}, {u'nullable': True, u'type': u'string', u'name': u'LongDistanceBilltype', u'metadata': {}}, {u'nullable': True, u'type': u'double', u'name': u'Usage', u'metadata': {}}, {u'nullable': True, u'type': u'double', u'name': u'RatePlan', u'metadata': {}}, {u'nullable': True, u'type': u'string', u'name': u'CHURN', u'metadata': {}}], u'type': u'struct'}\ncreationTime: 2017-10-09 16:47:30.710000+00:00\nmodelVersionHref: https://ibm-watson-ml.mybluemix.net/v2/artifacts/models/f4fe3a2f-d9f0-4ae2-b5af-ec936638010d/versions/220ed019-5caa-4c98-a7a0-3cc21e859a09\nlabel: CHURN\n"
                }
            ]
        }, 
        {
            "source": "**Tip**: **modelVersionHref** is our model unique indentifier in the Watson Machine Learning repository.", 
            "metadata": {}, 
            "cell_type": "markdown"
        }, 
        {
            "source": "### Step 11: Load model", 
            "metadata": {}, 
            "cell_type": "markdown"
        }, 
        {
            "source": "In this subsection you will learn how to load back saved model from specified instance of Watson Machine Learning.", 
            "metadata": {}, 
            "cell_type": "markdown"
        }, 
        {
            "execution_count": 24, 
            "source": "loadedModelArtifact = ml_repository_client.models.get(saved_model.uid)", 
            "metadata": {
                "collapsed": true
            }, 
            "cell_type": "code", 
            "outputs": []
        }, 
        {
            "source": "You can print for example model name to make sure that model has been loaded correctly.", 
            "metadata": {}, 
            "cell_type": "markdown"
        }, 
        {
            "execution_count": 25, 
            "source": "print str(loadedModelArtifact.name)", 
            "metadata": {}, 
            "cell_type": "code", 
            "outputs": [
                {
                    "name": "stdout", 
                    "output_type": "stream", 
                    "text": "Telco Churn Prediction\n"
                }
            ]
        }, 
        {
            "source": "As you can see the name is correct. You have already learned how save and load the model from Watson Machine Learning repository.", 
            "metadata": {}, 
            "cell_type": "markdown"
        }, 
        {
            "execution_count": 26, 
            "source": "m = loadedModelArtifact.model_instance()", 
            "metadata": {
                "collapsed": true
            }, 
            "cell_type": "code", 
            "outputs": []
        }, 
        {
            "execution_count": 27, 
            "source": "m.stages", 
            "metadata": {}, 
            "cell_type": "code", 
            "outputs": [
                {
                    "execution_count": 27, 
                    "data": {
                        "text/plain": "[StringIndexer_4c5788a497f2e7733c91,\n StringIndexer_47dfab81b599a69b315b,\n StringIndexer_4d7581e73a6658f4eca2,\n StringIndexer_4f9bb2fd5cc686e7495c,\n StringIndexer_453288faaf5ca7494d9e,\n StringIndexer_46adbfef7de917e325d1,\n StringIndexer_472c80f15e009af93b97,\n VectorAssembler_41c3ad0f167217f6a19e,\n RandomForestClassificationModel (uid=rfc_bbf77f66c1bf) with 20 trees,\n IndexToString_401ca2c9a8e8ffdc6d35]"
                    }, 
                    "metadata": {}, 
                    "output_type": "execute_result"
                }
            ]
        }, 
        {
            "execution_count": 28, 
            "source": "type(m.stages[1])", 
            "metadata": {}, 
            "cell_type": "code", 
            "outputs": [
                {
                    "execution_count": 28, 
                    "data": {
                        "text/plain": "pyspark.ml.feature.StringIndexerModel"
                    }, 
                    "metadata": {}, 
                    "output_type": "execute_result"
                }
            ]
        }, 
        {
            "source": "<a id=\"scoring\"></a>\n## Step 12: Deploy and score in a Cloud", 
            "metadata": {}, 
            "cell_type": "markdown"
        }, 
        {
            "source": "In this section you will learn how to create online scoring and to score a new data record by using the Watson Machine Learning REST API. \nFor more information about REST APIs, see the [Swagger Documentation](http://watson-ml-api.mybluemix.net/).", 
            "metadata": {}, 
            "cell_type": "markdown"
        }, 
        {
            "source": "To work with the Watson Machine Leraning REST API you must generate an access token. To do that you can use the following sample code:", 
            "metadata": {
                "collapsed": true
            }, 
            "cell_type": "markdown"
        }, 
        {
            "execution_count": 29, 
            "source": "import urllib3, requests, json\n\nheaders = urllib3.util.make_headers(basic_auth='{username}:{password}'.format(username=wml_credentials['username'], password=wml_credentials['password']))\nurl = '{}/v3/identity/token'.format(wml_credentials['url'])\nresponse = requests.get(url, headers=headers)\nmltoken = json.loads(response.text).get('token')", 
            "metadata": {
                "collapsed": true
            }, 
            "cell_type": "code", 
            "outputs": []
        }, 
        {
            "source": "### Create online scoring endpoint", 
            "metadata": {}, 
            "cell_type": "markdown"
        }, 
        {
            "source": "Now you can create an online scoring endpoint. ", 
            "metadata": {}, 
            "cell_type": "markdown"
        }, 
        {
            "source": "#### Get published_models url from instance details", 
            "metadata": {}, 
            "cell_type": "markdown"
        }, 
        {
            "execution_count": 30, 
            "source": "endpoint_instance = wml_credentials['url'] + \"/v3/wml_instances/\" + wml_credentials['instance_id']\nheader = {'Content-Type': 'application/json', 'Authorization': 'Bearer ' + mltoken}\n\nresponse_get_instance = requests.get(endpoint_instance, headers=header)\n\nprint response_get_instance\nprint response_get_instance.text", 
            "metadata": {}, 
            "cell_type": "code", 
            "outputs": [
                {
                    "name": "stdout", 
                    "output_type": "stream", 
                    "text": "<Response [200]>\n{\"metadata\":{\"guid\":\"e4e074bd-fed8-45c3-af30-abaede0466f8\",\"url\":\"https://ibm-watson-ml.mybluemix.net/v3/wml_instances/e4e074bd-fed8-45c3-af30-abaede0466f8\",\"created_at\":\"2017-07-03T13:38:37.078Z\",\"modified_at\":\"2017-10-09T16:47:30.947Z\"},\"entity\":{\"source\":\"Bluemix\",\"published_models\":{\"url\":\"https://ibm-watson-ml.mybluemix.net/v3/wml_instances/e4e074bd-fed8-45c3-af30-abaede0466f8/published_models\"},\"usage\":{\"expiration_date\":\"2017-11-01T00:00:00.000Z\",\"computation_time\":{\"limit\":18000,\"current\":0},\"model_count\":{\"limit\":200,\"current\":8},\"prediction_count\":{\"limit\":5000,\"current\":0},\"deployment_count\":{\"limit\":5,\"current\":3}},\"plan_id\":\"3f6acf43-ede8-413a-ac69-f8af3bb0cbfe\",\"status\":\"Active\",\"organization_guid\":\"d1401550-92eb-403d-bdcf-6fba69bba2f2\",\"region\":\"us-south\",\"account\":{\"id\":\"dcc36ed0250ce6b62e51beb7c80b8df3\",\"name\":\"Michael Heusch's Account\",\"type\":\"TRIAL\"},\"owner\":{\"ibm_id\":\"310001BM95\",\"email\":\"mheusch2@uk.ibm.com\",\"user_id\":\"d1306ffb-fa46-4343-9755-7f9ccf01b608\",\"country_code\":\"GBR\",\"beta_user\":true},\"deployments\":{\"url\":\"https://ibm-watson-ml.mybluemix.net/v3/wml_instances/e4e074bd-fed8-45c3-af30-abaede0466f8/deployments\"},\"space_guid\":\"6c8bbfb1-e8cd-4fc7-a380-bd4e128bad49\",\"plan\":\"free\"}}\n"
                }
            ]
        }, 
        {
            "execution_count": 33, 
            "source": "endpoint_published_models = json.loads(response_get_instance.text).get('entity').get('published_models').get('url')\n\nprint endpoint_published_models", 
            "metadata": {}, 
            "cell_type": "code", 
            "outputs": [
                {
                    "name": "stdout", 
                    "output_type": "stream", 
                    "text": "https://ibm-watson-ml.mybluemix.net/v3/wml_instances/e4e074bd-fed8-45c3-af30-abaede0466f8/published_models\n"
                }
            ]
        }, 
        {
            "source": "Execute the following sample code that uses the published_models endpoint to get deployments url.", 
            "metadata": {}, 
            "cell_type": "markdown"
        }, 
        {
            "source": "#### Get the list of published models", 
            "metadata": {}, 
            "cell_type": "markdown"
        }, 
        {
            "execution_count": 35, 
            "source": "header = {'Content-Type': 'application/json', 'Authorization': 'Bearer ' + mltoken}\n\nresponse_get = requests.get(endpoint_published_models, headers=header)\n\nprint response_get\nprint response_get.text", 
            "metadata": {}, 
            "cell_type": "code", 
            "outputs": [
                {
                    "name": "stdout", 
                    "output_type": "stream", 
                    "text": "<Response [200]>\n{\"count\":1,\"resources\":[{\"metadata\":{\"guid\":\"f4fe3a2f-d9f0-4ae2-b5af-ec936638010d\",\"url\":\"https://ibm-watson-ml.mybluemix.net/v3/wml_instances/e4e074bd-fed8-45c3-af30-abaede0466f8/published_models/f4fe3a2f-d9f0-4ae2-b5af-ec936638010d\",\"created_at\":\"2017-10-09T16:47:30.710Z\",\"modified_at\":\"2017-10-09T16:47:30.921Z\"},\"entity\":{\"runtime_environment\":\"spark-2.1\",\"author\":{},\"name\":\"Telco Churn Prediction\",\"label_col\":\"CHURN\",\"training_data_schema\":{\"fields\":[{\"metadata\":{},\"type\":\"integer\",\"name\":\"ID\",\"nullable\":true},{\"metadata\":{},\"type\":\"string\",\"name\":\"Gender\",\"nullable\":true},{\"metadata\":{},\"type\":\"string\",\"name\":\"Status\",\"nullable\":true},{\"metadata\":{},\"type\":\"double\",\"name\":\"Children\",\"nullable\":true},{\"metadata\":{},\"type\":\"double\",\"name\":\"EstIncome\",\"nullable\":true},{\"metadata\":{},\"type\":\"string\",\"name\":\"CarOwner\",\"nullable\":true},{\"metadata\":{},\"type\":\"double\",\"name\":\"Age\",\"nullable\":true},{\"metadata\":{},\"type\":\"double\",\"name\":\"LongDistance\",\"nullable\":true},{\"metadata\":{},\"type\":\"double\",\"name\":\"International\",\"nullable\":true},{\"metadata\":{},\"type\":\"double\",\"name\":\"Local\",\"nullable\":true},{\"metadata\":{},\"type\":\"double\",\"name\":\"Dropped\",\"nullable\":true},{\"metadata\":{},\"type\":\"string\",\"name\":\"Paymethod\",\"nullable\":true},{\"metadata\":{},\"type\":\"string\",\"name\":\"LocalBilltype\",\"nullable\":true},{\"metadata\":{},\"type\":\"string\",\"name\":\"LongDistanceBilltype\",\"nullable\":true},{\"metadata\":{},\"type\":\"double\",\"name\":\"Usage\",\"nullable\":true},{\"metadata\":{},\"type\":\"double\",\"name\":\"RatePlan\",\"nullable\":true},{\"metadata\":{},\"type\":\"string\",\"name\":\"CHURN\",\"nullable\":true}],\"type\":\"struct\"},\"latest_version\":{\"url\":\"https://ibm-watson-ml.mybluemix.net/v2/artifacts/models/f4fe3a2f-d9f0-4ae2-b5af-ec936638010d/versions/220ed019-5caa-4c98-a7a0-3cc21e859a09\",\"guid\":\"220ed019-5caa-4c98-a7a0-3cc21e859a09\",\"created_at\":\"2017-10-09T16:47:30.921Z\"},\"model_type\":\"sparkml-model-2.1\",\"deployments\":{\"count\":0,\"url\":\"https://ibm-watson-ml.mybluemix.net/v3/wml_instances/e4e074bd-fed8-45c3-af30-abaede0466f8/published_models/f4fe3a2f-d9f0-4ae2-b5af-ec936638010d/deployments\"},\"input_data_schema\":{\"fields\":[{\"metadata\":{},\"type\":\"integer\",\"name\":\"ID\",\"nullable\":true},{\"metadata\":{},\"type\":\"string\",\"name\":\"Gender\",\"nullable\":true},{\"metadata\":{},\"type\":\"string\",\"name\":\"Status\",\"nullable\":true},{\"metadata\":{},\"type\":\"double\",\"name\":\"Children\",\"nullable\":true},{\"metadata\":{},\"type\":\"double\",\"name\":\"EstIncome\",\"nullable\":true},{\"metadata\":{},\"type\":\"string\",\"name\":\"CarOwner\",\"nullable\":true},{\"metadata\":{},\"type\":\"double\",\"name\":\"Age\",\"nullable\":true},{\"metadata\":{},\"type\":\"double\",\"name\":\"LongDistance\",\"nullable\":true},{\"metadata\":{},\"type\":\"double\",\"name\":\"International\",\"nullable\":true},{\"metadata\":{},\"type\":\"double\",\"name\":\"Local\",\"nullable\":true},{\"metadata\":{},\"type\":\"double\",\"name\":\"Dropped\",\"nullable\":true},{\"metadata\":{},\"type\":\"string\",\"name\":\"Paymethod\",\"nullable\":true},{\"metadata\":{},\"type\":\"string\",\"name\":\"LocalBilltype\",\"nullable\":true},{\"metadata\":{},\"type\":\"string\",\"name\":\"LongDistanceBilltype\",\"nullable\":true},{\"metadata\":{},\"type\":\"double\",\"name\":\"Usage\",\"nullable\":true},{\"metadata\":{},\"type\":\"double\",\"name\":\"RatePlan\",\"nullable\":true}],\"type\":\"struct\"}}}]}\n"
                }
            ]
        }, 
        {
            "source": "#### Get published model deployment url", 
            "metadata": {}, 
            "cell_type": "markdown"
        }, 
        {
            "execution_count": 36, 
            "source": "[endpoint_deployments] = [x.get('entity').get('deployments').get('url') for x in json.loads(response_get.text).get('resources') if x.get('metadata').get('guid') == saved_model.uid]\n\nprint endpoint_deployments", 
            "metadata": {}, 
            "cell_type": "code", 
            "outputs": [
                {
                    "name": "stdout", 
                    "output_type": "stream", 
                    "text": "https://ibm-watson-ml.mybluemix.net/v3/wml_instances/e4e074bd-fed8-45c3-af30-abaede0466f8/published_models/f4fe3a2f-d9f0-4ae2-b5af-ec936638010d/deployments\n"
                }
            ]
        }, 
        {
            "source": "#### Create online deployment for published model", 
            "metadata": {}, 
            "cell_type": "markdown"
        }, 
        {
            "execution_count": 37, 
            "source": "payload_online = {\"name\": \"Product Line Prediction\", \"description\": \"My Cool Deployment\", \"type\": \"online\"}\nresponse_online = requests.post(endpoint_deployments, json=payload_online, headers=header)\n\nprint response_online\nprint response_online.text", 
            "metadata": {}, 
            "cell_type": "code", 
            "outputs": [
                {
                    "name": "stdout", 
                    "output_type": "stream", 
                    "text": "<Response [201]>\n{\"metadata\":{\"guid\":\"256ba905-4dc7-486f-bc34-2120bce470ab\",\"url\":\"https://ibm-watson-ml.mybluemix.net/v3/wml_instances/e4e074bd-fed8-45c3-af30-abaede0466f8/published_models/f4fe3a2f-d9f0-4ae2-b5af-ec936638010d/deployments/256ba905-4dc7-486f-bc34-2120bce470ab\",\"created_at\":\"2017-10-09T17:00:07.763Z\",\"modified_at\":\"2017-10-09T17:00:18.843Z\"},\"entity\":{\"runtime_environment\":\"spark-2.1\",\"name\":\"Product Line Prediction\",\"scoring_url\":\"https://ibm-watson-ml.mybluemix.net/v3/wml_instances/e4e074bd-fed8-45c3-af30-abaede0466f8/published_models/f4fe3a2f-d9f0-4ae2-b5af-ec936638010d/deployments/256ba905-4dc7-486f-bc34-2120bce470ab/online\",\"description\":\"My Cool Deployment\",\"published_model\":{\"author\":{},\"name\":\"Telco Churn Prediction\",\"url\":\"https://ibm-watson-ml.mybluemix.net/v3/wml_instances/e4e074bd-fed8-45c3-af30-abaede0466f8/published_models/f4fe3a2f-d9f0-4ae2-b5af-ec936638010d\",\"guid\":\"f4fe3a2f-d9f0-4ae2-b5af-ec936638010d\",\"created_at\":\"2017-10-09T17:00:07.737Z\"},\"model_type\":\"sparkml-model-2.1\",\"status\":\"INITIALIZING\",\"type\":\"online\",\"deployed_version\":{\"url\":\"https://ibm-watson-ml.mybluemix.net/v2/artifacts/models/f4fe3a2f-d9f0-4ae2-b5af-ec936638010d/versions/220ed019-5caa-4c98-a7a0-3cc21e859a09\",\"guid\":\"220ed019-5caa-4c98-a7a0-3cc21e859a09\",\"created_at\":\"2017-10-09T16:47:30.921Z\"}}}\n"
                }
            ]
        }, 
        {
            "execution_count": 50, 
            "source": "scoring_url = json.loads(response_online.text).get('entity').get('scoring_url')\nprint scoring_url", 
            "metadata": {}, 
            "cell_type": "code", 
            "outputs": [
                {
                    "name": "stdout", 
                    "output_type": "stream", 
                    "text": "https://ibm-watson-ml.mybluemix.net/v3/wml_instances/e4e074bd-fed8-45c3-af30-abaede0466f8/published_models/f4fe3a2f-d9f0-4ae2-b5af-ec936638010d/deployments/256ba905-4dc7-486f-bc34-2120bce470ab/online\n"
                }
            ]
        }, 
        {
            "source": "Now, you can send (POST) new scoring records (new data) for which you would like to get predictions. To do that, execute the following sample code: ", 
            "metadata": {}, 
            "cell_type": "markdown"
        }, 
        {
            "execution_count": 39, 
            "source": "payload_scoring = {\"fields\": [\"Gender\",\"Status\",\"Children\",\"EstIncome\",\"CarOwner\",\"Age\",\"LongDistance\",\"International\",\"Local\",\"Dropped\",\"Paymethod\",\"LocalBilltype\",\"LongDistanceBilltype\",\"Usage\",\"RatePlan\"],\\\n                   \"values\": [[\"F\",\"S\",1.000000,38000.000000,\"N\",24.393333,23.560000,0.000000,206.080000,0.000000,\"CC\",\"Budget\",\"Intnl_discount\",229.640000,3.000000]]}\nresponse_scoring = requests.post(scoring_url, json=payload_scoring, headers=header)\n\nprint response_scoring.text", 
            "metadata": {}, 
            "cell_type": "code", 
            "outputs": [
                {
                    "name": "stdout", 
                    "output_type": "stream", 
                    "text": "{\n  \"fields\": [\"Gender\", \"Status\", \"Children\", \"EstIncome\", \"CarOwner\", \"Age\", \"LongDistance\", \"International\", \"Local\", \"Dropped\", \"Paymethod\", \"LocalBilltype\", \"LongDistanceBilltype\", \"Usage\", \"RatePlan\", \"CHURN\", \"GenderEncoded\", \"StatusEncoded\", \"CarOwnerEncoded\", \"PaymethodEncoded\", \"LocalBilltypeEncoded\", \"LongDistanceBilltypeEncoded\", \"label\", \"features\", \"rawPrediction\", \"probability\", \"prediction\", \"predictedLabel\"],\n  \"values\": [[\"F\", \"S\", 1.0, 38000.0, \"N\", 24.393333, 23.56, 0.0, 206.08, 0.0, \"CC\", \"Budget\", \"Intnl_discount\", 229.64, 3.0, \"F\", 0.0, 1.0, 0.0, 0.0, 0.0, 1.0, 0.0, [0.0, 1.0, 0.0, 0.0, 0.0, 1.0, 1.0, 38000.0, 24.393333, 23.56, 0.0, 206.08, 0.0, 229.64, 3.0], [1.6658053320448967, 18.334194667955103], [0.08329026660224484, 0.9167097333977552], 1.0, \"T\"]]\n}\n"
                }
            ]
        }, 
        {
            "source": "### Summary", 
            "metadata": {}, 
            "cell_type": "markdown"
        }, 
        {
            "source": " You successfully completed this notebook! You learned how to use Apache Spark machine learning as well as Watson Machine Learning for model creation and deployment. Check out our _[Online Documentation](https://console.ng.bluemix.net/docs/services/PredictiveModeling/pm_service_api_spark.html)_ for more samples, tutorials, documentation, how-tos, and blog posts. ", 
            "metadata": {
                "collapsed": true
            }, 
            "cell_type": "markdown"
        }, 
        {
            "execution_count": null, 
            "source": "", 
            "metadata": {
                "collapsed": true
            }, 
            "cell_type": "code", 
            "outputs": []
        }
    ], 
    "nbformat": 4
}